{
 "cells": [
  {
   "cell_type": "markdown",
   "metadata": {
    "colab_type": "text",
    "id": "3U0J3FgBbJPA"
   },
   "source": [
    "# Prepare github data\n",
    "It is necessary to run when you running in google colab"
   ]
  },
  {
   "cell_type": "code",
   "execution_count": null,
   "metadata": {
    "colab": {
     "base_uri": "https://localhost:8080/",
     "height": 394
    },
    "colab_type": "code",
    "id": "Vo6Vk-dta7j_",
    "outputId": "aeba96a2-efba-4a8a-89c2-39ea6c8e929a"
   },
   "outputs": [],
   "source": [
    "# !git clone https://github.com/andriygav/SampleSizeLib\n",
    "# !pip install SampleSizeLib/src\n",
    "# !git clone https://github.com/ttgadaev/SampleSizeEstimation.git\n",
    "# !mv SampleSizeEstimation/datasets datasets\n",
    "# !mv SampleSizeEstimation/dumps dumps"
   ]
  },
  {
   "cell_type": "markdown",
   "metadata": {
    "colab_type": "text",
    "id": "1kBTPyBCbSuJ"
   },
   "source": [
    "# Import packages"
   ]
  },
  {
   "cell_type": "code",
   "execution_count": null,
   "metadata": {
    "colab": {},
    "colab_type": "code",
    "id": "Xiq-IJV-a5LF"
   },
   "outputs": [],
   "source": [
    "import pandas as pd\n",
    "import numpy as np\n",
    "import pickle\n",
    "from sklearn.preprocessing import scale\n",
    "import matplotlib.pyplot as plt"
   ]
  },
  {
   "cell_type": "code",
   "execution_count": null,
   "metadata": {
    "colab": {},
    "colab_type": "code",
    "id": "ag62-R4Ha5LO"
   },
   "outputs": [],
   "source": [
    "from samplesizelib.linear.statistical import LagrangeEstimator\n",
    "from samplesizelib.linear.statistical import LikelihoodRatioEstimator\n",
    "from samplesizelib.linear.statistical import WaldEstimator\n",
    "\n",
    "from samplesizelib.linear.heuristic import CrossValidationEstimator\n",
    "from samplesizelib.linear.heuristic import BootstrapEstimator\n",
    "from samplesizelib.linear.heuristic import LogisticRegressionEstimator\n",
    "\n",
    "from samplesizelib.linear.bayesian import APVCEstimator\n",
    "from samplesizelib.linear.bayesian import ACCEstimator\n",
    "from samplesizelib.linear.bayesian import ALCEstimator\n",
    "from samplesizelib.linear.bayesian import MaxUtilityEstimator\n",
    "from samplesizelib.linear.bayesian import KLEstimator\n",
    "\n",
    "from samplesizelib.linear.models import RegressionModel\n",
    "from samplesizelib.linear.models import LogisticModel"
   ]
  },
  {
   "cell_type": "code",
   "execution_count": null,
   "metadata": {
    "colab": {},
    "colab_type": "code",
    "id": "Cb1dKE-Pd27F"
   },
   "outputs": [],
   "source": [
    "import warnings\n",
    "from sklearn.exceptions import ConvergenceWarning\n",
    "warnings.filterwarnings(action='ignore', category=ConvergenceWarning)"
   ]
  },
  {
   "cell_type": "markdown",
   "metadata": {
    "colab_type": "text",
    "id": "WRmVLBfGbW-k"
   },
   "source": [
    "# Experiment config for all models"
   ]
  },
  {
   "cell_type": "code",
   "execution_count": null,
   "metadata": {
    "colab": {},
    "colab_type": "code",
    "id": "Owqn3J6ba5LS"
   },
   "outputs": [],
   "source": [
    "NAME_TO_MODEL = {\n",
    "    'LagrangeEstimator': LagrangeEstimator, \n",
    "    'LikelihoodRatioEstimator': LikelihoodRatioEstimator, \n",
    "    'WaldEstimator': WaldEstimator, \n",
    "    'CrossValidationEstimator': CrossValidationEstimator, \n",
    "    'BootstrapEstimator': BootstrapEstimator, \n",
    "    'LogisticRegressionEstimator': LogisticRegressionEstimator, \n",
    "    'APVCEstimator': APVCEstimator, \n",
    "    'ACCEstimator': ACCEstimator, \n",
    "    'ALCEstimator': ALCEstimator, \n",
    "    'ALCEstimator': ALCEstimator, \n",
    "    'MaxUtilityEstimator': MaxUtilityEstimator, \n",
    "}\n",
    "\n",
    "config = {\n",
    "    'LagrangeEstimator': {'epsilon': 0.2, \n",
    "                          'alpha': 0.05, \n",
    "                          'beta': 0.2},\n",
    "    'LikelihoodRatioEstimator': {'epsilon': 0.2, \n",
    "                                 'alpha': 0.05, \n",
    "                                 'beta': 0.2},\n",
    "    'WaldEstimator': {'epsilon': 0.2, \n",
    "                      'alpha': 0.05, \n",
    "                      'beta': 0.2},\n",
    "    'BootstrapEstimator': {'averaging': 10,\n",
    "                           'epsilon': 0.5, \n",
    "                           'multiprocess': True, \n",
    "                           'progressbar': True},\n",
    "    'CrossValidationEstimator': {'averaging': 100,\n",
    "                                 'test_size': 0.5, \n",
    "                                 'epsilon': 0.05, \n",
    "                                 'multiprocess': True, \n",
    "                                 'progressbar': True},\n",
    "    'APVCEstimator': {'averaging': 100,\n",
    "                      'epsilon': 0.5, \n",
    "                      'multiprocess': True, \n",
    "                      'progressbar': True},\n",
    "    'ACCEstimator': {'averaging': 100,\n",
    "                     'length': 0.25,\n",
    "                     'alpha': 0.05, \n",
    "                     'multiprocess': True, \n",
    "                     'progressbar': True},\n",
    "    'ALCEstimator': {'averaging': 100,\n",
    "                     'length': 0.5,\n",
    "                     'alpha': 0.05, \n",
    "                     'multiprocess': True, \n",
    "                     'progressbar': True},\n",
    "    'MaxUtilityEstimator': {'averaging': 10,\n",
    "                            'c': 0.005, \n",
    "                            'multiprocess': True, \n",
    "                            'progressbar': True},\n",
    "}"
   ]
  },
  {
   "cell_type": "code",
   "execution_count": null,
   "metadata": {
    "colab": {},
    "colab_type": "code",
    "id": "sfUiUVOnBR76"
   },
   "outputs": [],
   "source": [
    "def draw_table(data, title = [\"PRECISION\", \"RECALL\", \"F-SCORE\"], width = [20]*(1+3)):\n",
    "    \"\"\"\n",
    "    data is a dict with format\n",
    "        {row_name_1: (title[0], title[1], ...), \n",
    "         row_name_2: (title[0], title[1], ...), \n",
    "         ...}\n",
    "    \"\"\"\n",
    "    print('#'*(sum(width) + len(width) + 1))\n",
    "    \n",
    "    row_format = '|' + '|'.join([(\"{:>\"+str(w)+\"}\") for w in width]) + '|'\n",
    "    \n",
    "    print(row_format.format(\"-\"*width[0], *[\"-\"*width[i+1] for i, _ in enumerate(title)]))\n",
    "    print(row_format.format(\"\", *title))\n",
    "    print(row_format.format(\"-\"*width[0], *[\"-\"*width[i+1] for i, _ in enumerate(title)]))\n",
    "    for key in data:\n",
    "        if len(key) > width[0]:\n",
    "            row_name = '...' + key[len(key)-width[0]+3:]\n",
    "        else:\n",
    "            row_name = key\n",
    "        print(row_format.format(row_name, *[round(x, 2) for x in data[key]]))\n",
    "        print(row_format.format(\"-\"*width[0], *[\"-\"*width[i+1] for i, _ in enumerate(title)]))\n",
    "    \n",
    "    print('#'*(sum(width) + len(width) + 1))"
   ]
  },
  {
   "cell_type": "markdown",
   "metadata": {
    "colab_type": "text",
    "id": "se3SzbN-H9uc"
   },
   "source": [
    "# Boston Housing"
   ]
  },
  {
   "cell_type": "markdown",
   "metadata": {
    "colab_type": "text",
    "id": "BtxnvuC-IB-8"
   },
   "source": [
    "## Load dataset"
   ]
  },
  {
   "cell_type": "code",
   "execution_count": null,
   "metadata": {
    "colab": {},
    "colab_type": "code",
    "id": "KSLn8gDsISeX"
   },
   "outputs": [],
   "source": [
    "dataset = pd.read_csv('datasets/boston.csv')\n",
    "\n",
    "y = dataset.iloc[:, dataset.columns == 'answer'].values.reshape(-1)\n",
    "X = dataset.iloc[:, dataset.columns != 'answer'].values\n",
    "\n",
    "X = scale(X)\n",
    "y = scale(y)\n",
    "X = np.hstack((X, np.ones([len(X), 1])))"
   ]
  },
  {
   "cell_type": "markdown",
   "metadata": {
    "colab_type": "text",
    "id": "F9ACFgRKICEl"
   },
   "source": [
    "## Prepara model"
   ]
  },
  {
   "cell_type": "code",
   "execution_count": null,
   "metadata": {
    "colab": {},
    "colab_type": "code",
    "id": "PaqC_O6lIVLn"
   },
   "outputs": [],
   "source": [
    "statmodel = RegressionModel\n",
    "\n",
    "models = dict()\n",
    "for key in config:\n",
    "    models[key] = NAME_TO_MODEL[key](statmodel, **config[key])"
   ]
  },
  {
   "cell_type": "markdown",
   "metadata": {
    "colab_type": "text",
    "id": "jL19FwJ_ICNb"
   },
   "source": [
    "## Using models for prediction"
   ]
  },
  {
   "cell_type": "code",
   "execution_count": null,
   "metadata": {
    "colab": {
     "base_uri": "https://localhost:8080/",
     "height": 187
    },
    "colab_type": "code",
    "id": "lrS1azl5IZZ7",
    "outputId": "1f96e562-61a9-41f6-d7f6-2ddc2ebed99e"
   },
   "outputs": [],
   "source": [
    "result = dict()\n",
    "\n",
    "for i, key in enumerate(models):\n",
    "    result[key] = models[key](X, y)\n",
    "    print('{}: {}'.format(key, result[key]['m*']))"
   ]
  },
  {
   "cell_type": "markdown",
   "metadata": {
    "colab_type": "text",
    "id": "vIDOZgP5ICWB"
   },
   "source": [
    "## Using dumps"
   ]
  },
  {
   "cell_type": "code",
   "execution_count": null,
   "metadata": {
    "colab": {},
    "colab_type": "code",
    "id": "RytmUIiAIgU3"
   },
   "outputs": [],
   "source": [
    "with open('dumps/ManyDatasetsExperiment/boston.pkl', 'wb') as f:\n",
    "    pickle.dump(result, f)"
   ]
  },
  {
   "cell_type": "code",
   "execution_count": null,
   "metadata": {
    "colab": {},
    "colab_type": "code",
    "id": "ua8FMw5_IiZQ"
   },
   "outputs": [],
   "source": [
    "with open('dumps/ManyDatasetsExperiment/boston.pkl', 'rb') as f:\n",
    "    result = pickle.load(f)"
   ]
  },
  {
   "cell_type": "markdown",
   "metadata": {
    "colab_type": "text",
    "id": "p_Syga-QIMUH"
   },
   "source": [
    "## Rusult for Boston dataset"
   ]
  },
  {
   "cell_type": "code",
   "execution_count": null,
   "metadata": {
    "colab": {},
    "colab_type": "code",
    "id": "L8r_pypZIRHy"
   },
   "outputs": [],
   "source": [
    "table_data = dict()\n",
    "for key in result:\n",
    "    table_data[key] = [result[key]['m*']]\n",
    "\n",
    "draw_table(table_data, title=['m*'], width=[30, 20])"
   ]
  },
  {
   "cell_type": "markdown",
   "metadata": {
    "colab_type": "text",
    "id": "VyILKLCRL5v9"
   },
   "source": [
    "# Diabetes"
   ]
  },
  {
   "cell_type": "markdown",
   "metadata": {
    "colab_type": "text",
    "id": "Lk5mW5WqL5v9"
   },
   "source": [
    "## Load dataset"
   ]
  },
  {
   "cell_type": "code",
   "execution_count": null,
   "metadata": {
    "colab": {},
    "colab_type": "code",
    "id": "F59rCxjdL5v9"
   },
   "outputs": [],
   "source": [
    "dataset = pd.read_csv('datasets/diabetes.csv')\n",
    "\n",
    "y = dataset.iloc[:, dataset.columns == 'answer'].values.reshape(-1)\n",
    "X = dataset.iloc[:, dataset.columns != 'answer'].values\n",
    "\n",
    "X = scale(X)\n",
    "y = scale(y)\n",
    "X = np.hstack((X, np.ones([len(X), 1])))"
   ]
  },
  {
   "cell_type": "markdown",
   "metadata": {
    "colab_type": "text",
    "id": "UOfCWlkRL5v_"
   },
   "source": [
    "## Prepara model"
   ]
  },
  {
   "cell_type": "code",
   "execution_count": null,
   "metadata": {
    "colab": {},
    "colab_type": "code",
    "id": "ddTCdhaQL5v_"
   },
   "outputs": [],
   "source": [
    "statmodel = RegressionModel\n",
    "\n",
    "models = dict()\n",
    "for key in config:\n",
    "    models[key] = NAME_TO_MODEL[key](statmodel, **config[key])"
   ]
  },
  {
   "cell_type": "markdown",
   "metadata": {
    "colab_type": "text",
    "id": "aaehFsfmL5wB"
   },
   "source": [
    "## Using models for prediction"
   ]
  },
  {
   "cell_type": "code",
   "execution_count": null,
   "metadata": {
    "colab": {},
    "colab_type": "code",
    "id": "pCT_5xutL5wC"
   },
   "outputs": [],
   "source": [
    "result = dict()\n",
    "\n",
    "for i, key in enumerate(models):\n",
    "    result[key] = models[key](X, y)\n",
    "    print('{}: {}'.format(key, result[key]['m*']))"
   ]
  },
  {
   "cell_type": "markdown",
   "metadata": {
    "colab_type": "text",
    "id": "Ti81DcF5L5wD"
   },
   "source": [
    "## Using dumps"
   ]
  },
  {
   "cell_type": "code",
   "execution_count": null,
   "metadata": {
    "colab": {},
    "colab_type": "code",
    "id": "kreDFMSLL5wD"
   },
   "outputs": [],
   "source": [
    "with open('dumps/ManyDatasetsExperiment/diabetes.pkl', 'wb') as f:\n",
    "    pickle.dump(result, f)"
   ]
  },
  {
   "cell_type": "code",
   "execution_count": null,
   "metadata": {
    "colab": {},
    "colab_type": "code",
    "id": "8x1HCqeSL5wF"
   },
   "outputs": [],
   "source": [
    "with open('dumps/ManyDatasetsExperiment/diabetes.pkl', 'rb') as f:\n",
    "    result = pickle.load(f)"
   ]
  },
  {
   "cell_type": "markdown",
   "metadata": {
    "colab_type": "text",
    "id": "PdAGqp5OL5wK"
   },
   "source": [
    "## Rusult for Diabetes dataset"
   ]
  },
  {
   "cell_type": "code",
   "execution_count": null,
   "metadata": {
    "colab": {},
    "colab_type": "code",
    "id": "ymNidrNyL5wK"
   },
   "outputs": [],
   "source": [
    "table_data = dict()\n",
    "for key in result:\n",
    "    table_data[key] = [result[key]['m*']]\n",
    "\n",
    "draw_table(table_data, title=['m*'], width=[30, 20])"
   ]
  },
  {
   "cell_type": "markdown",
   "metadata": {
    "colab_type": "text",
    "id": "-_lvwhUKL5wM"
   },
   "source": [
    "# Forest Fires"
   ]
  },
  {
   "cell_type": "markdown",
   "metadata": {
    "colab_type": "text",
    "id": "H-EgmdClL5wM"
   },
   "source": [
    "## Load dataset"
   ]
  },
  {
   "cell_type": "code",
   "execution_count": null,
   "metadata": {
    "colab": {},
    "colab_type": "code",
    "id": "TVVkV_4TL5wN"
   },
   "outputs": [],
   "source": [
    "dataset = pd.read_csv('datasets/forestfires.csv')\n",
    "\n",
    "y = dataset.iloc[:, dataset.columns == 'answer'].values.reshape(-1)\n",
    "X = dataset.iloc[:, dataset.columns != 'answer'].values\n",
    "\n",
    "X = scale(X)\n",
    "y = scale(y)\n",
    "X = np.hstack((X, np.ones([len(X), 1])))"
   ]
  },
  {
   "cell_type": "markdown",
   "metadata": {
    "colab_type": "text",
    "id": "uBmLd3kXL5wP"
   },
   "source": [
    "## Prepara model"
   ]
  },
  {
   "cell_type": "code",
   "execution_count": null,
   "metadata": {
    "colab": {},
    "colab_type": "code",
    "id": "uGDu7cuKL5wP"
   },
   "outputs": [],
   "source": [
    "statmodel = RegressionModel\n",
    "\n",
    "models = dict()\n",
    "for key in config:\n",
    "    models[key] = NAME_TO_MODEL[key](statmodel, **config[key])"
   ]
  },
  {
   "cell_type": "markdown",
   "metadata": {
    "colab_type": "text",
    "id": "v5KiOd-zL5wR"
   },
   "source": [
    "## Using models for prediction"
   ]
  },
  {
   "cell_type": "code",
   "execution_count": null,
   "metadata": {
    "colab": {},
    "colab_type": "code",
    "id": "6nzZN8c7L5wR"
   },
   "outputs": [],
   "source": [
    "result = dict()\n",
    "\n",
    "for i, key in enumerate(models):\n",
    "    result[key] = models[key](X, y)\n",
    "    print('{}: {}'.format(key, result[key]['m*']))"
   ]
  },
  {
   "cell_type": "markdown",
   "metadata": {
    "colab_type": "text",
    "id": "yDqnkz2gL5wV"
   },
   "source": [
    "## Using dumps"
   ]
  },
  {
   "cell_type": "code",
   "execution_count": null,
   "metadata": {
    "colab": {},
    "colab_type": "code",
    "id": "kMMCKApfL5wV"
   },
   "outputs": [],
   "source": [
    "with open('dumps/ManyDatasetsExperiment/forestfires.pkl', 'wb') as f:\n",
    "    pickle.dump(result, f)"
   ]
  },
  {
   "cell_type": "code",
   "execution_count": null,
   "metadata": {
    "colab": {},
    "colab_type": "code",
    "id": "rqFaY9usL5wW"
   },
   "outputs": [],
   "source": [
    "with open('dumps/ManyDatasetsExperiment/forestfires.pkl', 'rb') as f:\n",
    "    result = pickle.load(f)"
   ]
  },
  {
   "cell_type": "markdown",
   "metadata": {
    "colab_type": "text",
    "id": "kGlT3PW9L5wY"
   },
   "source": [
    "## Rusult for Forest Fires dataset"
   ]
  },
  {
   "cell_type": "code",
   "execution_count": null,
   "metadata": {
    "colab": {},
    "colab_type": "code",
    "id": "5GMbrkKUL5wa"
   },
   "outputs": [],
   "source": [
    "table_data = dict()\n",
    "for key in result:\n",
    "    table_data[key] = [result[key]['m*']]\n",
    "\n",
    "draw_table(table_data, title=['m*'], width=[30, 20])"
   ]
  },
  {
   "cell_type": "markdown",
   "metadata": {
    "colab_type": "text",
    "id": "k1A-5gPDL5wb"
   },
   "source": [
    "# Servo"
   ]
  },
  {
   "cell_type": "markdown",
   "metadata": {
    "colab_type": "text",
    "id": "pDBbjKczL5wc"
   },
   "source": [
    "## Load dataset"
   ]
  },
  {
   "cell_type": "code",
   "execution_count": null,
   "metadata": {
    "colab": {},
    "colab_type": "code",
    "id": "rQoq5YUKL5wc"
   },
   "outputs": [],
   "source": [
    "dataset = pd.read_csv('datasets/servo.csv')\n",
    "\n",
    "y = dataset.iloc[:, dataset.columns == 'answer'].values.reshape(-1)\n",
    "X = dataset.iloc[:, dataset.columns != 'answer'].values\n",
    "\n",
    "X = scale(X)\n",
    "y = scale(y)\n",
    "X = np.hstack((X, np.ones([len(X), 1])))"
   ]
  },
  {
   "cell_type": "markdown",
   "metadata": {
    "colab_type": "text",
    "id": "cGIe3LrvL5we"
   },
   "source": [
    "## Prepara model"
   ]
  },
  {
   "cell_type": "code",
   "execution_count": null,
   "metadata": {
    "colab": {},
    "colab_type": "code",
    "id": "YHwllvzZL5wg"
   },
   "outputs": [],
   "source": [
    "statmodel = RegressionModel\n",
    "\n",
    "models = dict()\n",
    "for key in config:\n",
    "    models[key] = NAME_TO_MODEL[key](statmodel, **config[key])"
   ]
  },
  {
   "cell_type": "markdown",
   "metadata": {
    "colab_type": "text",
    "id": "a4nkzIO6L5wk"
   },
   "source": [
    "## Using models for prediction"
   ]
  },
  {
   "cell_type": "code",
   "execution_count": null,
   "metadata": {
    "colab": {},
    "colab_type": "code",
    "id": "cMnFPYQZL5wk"
   },
   "outputs": [],
   "source": [
    "result = dict()\n",
    "\n",
    "for i, key in enumerate(models):\n",
    "    result[key] = models[key](X, y)\n",
    "    print('{}: {}'.format(key, result[key]['m*']))"
   ]
  },
  {
   "cell_type": "markdown",
   "metadata": {
    "colab_type": "text",
    "id": "e48IygmPL5wl"
   },
   "source": [
    "## Using dumps"
   ]
  },
  {
   "cell_type": "code",
   "execution_count": null,
   "metadata": {
    "colab": {},
    "colab_type": "code",
    "id": "TBiYJ9M1L5wo"
   },
   "outputs": [],
   "source": [
    "with open('dumps/ManyDatasetsExperiment/servo.pkl', 'wb') as f:\n",
    "    pickle.dump(result, f)"
   ]
  },
  {
   "cell_type": "code",
   "execution_count": null,
   "metadata": {
    "colab": {},
    "colab_type": "code",
    "id": "797ZpL76L5wp"
   },
   "outputs": [],
   "source": [
    "with open('dumps/ManyDatasetsExperiment/servo.pkl', 'rb') as f:\n",
    "    result = pickle.load(f)"
   ]
  },
  {
   "cell_type": "markdown",
   "metadata": {
    "colab_type": "text",
    "id": "Qp3_boPhL5wr"
   },
   "source": [
    "## Rusult for Servo dataset"
   ]
  },
  {
   "cell_type": "code",
   "execution_count": null,
   "metadata": {
    "colab": {},
    "colab_type": "code",
    "id": "qxtbDtJJL5ws"
   },
   "outputs": [],
   "source": [
    "table_data = dict()\n",
    "for key in result:\n",
    "    table_data[key] = [result[key]['m*']]\n",
    "\n",
    "draw_table(table_data, title=['m*'], width=[30, 20])"
   ]
  },
  {
   "cell_type": "markdown",
   "metadata": {
    "colab_type": "text",
    "id": "3LGyshPhL5wu"
   },
   "source": [
    "# Wine"
   ]
  },
  {
   "cell_type": "markdown",
   "metadata": {
    "colab_type": "text",
    "id": "IgzAe4A4L5wu"
   },
   "source": [
    "## Load dataset"
   ]
  },
  {
   "cell_type": "code",
   "execution_count": null,
   "metadata": {
    "colab": {},
    "colab_type": "code",
    "id": "EE-sLbrOL5wv"
   },
   "outputs": [],
   "source": [
    "dataset = pd.read_csv('datasets/wine.csv')\n",
    "\n",
    "y = dataset.iloc[:, dataset.columns == 'answer'].values.reshape(-1)\n",
    "X = dataset.iloc[:, dataset.columns != 'answer'].values\n",
    "\n",
    "X = scale(X)\n",
    "X = np.hstack((X, np.ones([len(X), 1])))"
   ]
  },
  {
   "cell_type": "markdown",
   "metadata": {
    "colab_type": "text",
    "id": "pWElRLQWL5ww"
   },
   "source": [
    "## Prepara model"
   ]
  },
  {
   "cell_type": "code",
   "execution_count": null,
   "metadata": {
    "colab": {},
    "colab_type": "code",
    "id": "H-RWcGBOL5wx"
   },
   "outputs": [],
   "source": [
    "statmodel = LogisticModel\n",
    "\n",
    "models = dict()\n",
    "for key in config:\n",
    "    models[key] = NAME_TO_MODEL[key](statmodel, **config[key])"
   ]
  },
  {
   "cell_type": "markdown",
   "metadata": {
    "colab_type": "text",
    "id": "UtGAeGs2L5wy"
   },
   "source": [
    "## Using models for prediction"
   ]
  },
  {
   "cell_type": "code",
   "execution_count": null,
   "metadata": {
    "colab": {},
    "colab_type": "code",
    "id": "1RLyVefYL5wy"
   },
   "outputs": [],
   "source": [
    "result = dict()\n",
    "\n",
    "for i, key in enumerate(models):\n",
    "    result[key] = models[key](X, y)\n",
    "    print('{}: {}'.format(key, result[key]['m*']))"
   ]
  },
  {
   "cell_type": "markdown",
   "metadata": {
    "colab_type": "text",
    "id": "uh9fjG5jL5w1"
   },
   "source": [
    "## Using dumps"
   ]
  },
  {
   "cell_type": "code",
   "execution_count": null,
   "metadata": {
    "colab": {},
    "colab_type": "code",
    "id": "zo3GmaGeL5w2"
   },
   "outputs": [],
   "source": [
    "with open('dumps/ManyDatasetsExperiment/wine.pkl', 'wb') as f:\n",
    "    pickle.dump(result, f)"
   ]
  },
  {
   "cell_type": "code",
   "execution_count": null,
   "metadata": {
    "colab": {},
    "colab_type": "code",
    "id": "ibOfuM_QL5w5"
   },
   "outputs": [],
   "source": [
    "with open('dumps/ManyDatasetsExperiment/wine.pkl', 'rb') as f:\n",
    "    result = pickle.load(f)"
   ]
  },
  {
   "cell_type": "markdown",
   "metadata": {
    "colab_type": "text",
    "id": "AbuBM0NSL5w7"
   },
   "source": [
    "## Rusult for Wine dataset"
   ]
  },
  {
   "cell_type": "code",
   "execution_count": null,
   "metadata": {
    "colab": {},
    "colab_type": "code",
    "id": "esGzLrWYL5w7"
   },
   "outputs": [],
   "source": [
    "table_data = dict()\n",
    "for key in result:\n",
    "    table_data[key] = [result[key]['m*']]\n",
    "\n",
    "draw_table(table_data, title=['m*'], width=[30, 20])"
   ]
  },
  {
   "cell_type": "markdown",
   "metadata": {
    "colab_type": "text",
    "id": "AifCUo0ZL5w9"
   },
   "source": [
    "# NBA"
   ]
  },
  {
   "cell_type": "markdown",
   "metadata": {
    "colab_type": "text",
    "id": "-jiwd0FKL5w9"
   },
   "source": [
    "## Load dataset"
   ]
  },
  {
   "cell_type": "code",
   "execution_count": null,
   "metadata": {
    "colab": {},
    "colab_type": "code",
    "id": "UT7m9KIrL5w9"
   },
   "outputs": [],
   "source": [
    "dataset = pd.read_csv('datasets/nba.csv')\n",
    "\n",
    "y = dataset.iloc[:, dataset.columns == 'answer'].values.reshape(-1)\n",
    "X = dataset.iloc[:, dataset.columns != 'answer'].values\n",
    "\n",
    "X = scale(X)\n",
    "X = np.hstack((X, np.ones([len(X), 1])))"
   ]
  },
  {
   "cell_type": "markdown",
   "metadata": {
    "colab_type": "text",
    "id": "H9v9Ls5NL5w-"
   },
   "source": [
    "## Prepara model"
   ]
  },
  {
   "cell_type": "code",
   "execution_count": null,
   "metadata": {
    "colab": {},
    "colab_type": "code",
    "id": "G1VIKOD6L5w_"
   },
   "outputs": [],
   "source": [
    "statmodel = LogisticModel\n",
    "\n",
    "models = dict()\n",
    "for key in config:\n",
    "    models[key] = NAME_TO_MODEL[key](statmodel, **config[key])"
   ]
  },
  {
   "cell_type": "markdown",
   "metadata": {
    "colab_type": "text",
    "id": "PleRz5_rL5xA"
   },
   "source": [
    "## Using models for prediction"
   ]
  },
  {
   "cell_type": "code",
   "execution_count": null,
   "metadata": {
    "colab": {},
    "colab_type": "code",
    "id": "77jBTvXbL5xA"
   },
   "outputs": [],
   "source": [
    "result = dict()\n",
    "\n",
    "for i, key in enumerate(models):\n",
    "    result[key] = models[key](X, y)\n",
    "    print('{}: {}'.format(key, result[key]['m*']))"
   ]
  },
  {
   "cell_type": "markdown",
   "metadata": {
    "colab_type": "text",
    "id": "hL0R7fY-L5xB"
   },
   "source": [
    "## Using dumps"
   ]
  },
  {
   "cell_type": "code",
   "execution_count": null,
   "metadata": {
    "colab": {},
    "colab_type": "code",
    "id": "LGzyQ_r-L5xC"
   },
   "outputs": [],
   "source": [
    "with open('dumps/ManyDatasetsExperiment/nba.pkl', 'wb') as f:\n",
    "    pickle.dump(result, f)"
   ]
  },
  {
   "cell_type": "code",
   "execution_count": null,
   "metadata": {
    "colab": {},
    "colab_type": "code",
    "id": "wCoo7_4pL5xD"
   },
   "outputs": [],
   "source": [
    "with open('dumps/ManyDatasetsExperiment/nba.pkl', 'rb') as f:\n",
    "    result = pickle.load(f)"
   ]
  },
  {
   "cell_type": "markdown",
   "metadata": {
    "colab_type": "text",
    "id": "bTJYr2MML5xE"
   },
   "source": [
    "## Rusult for NBA dataset"
   ]
  },
  {
   "cell_type": "code",
   "execution_count": null,
   "metadata": {
    "colab": {},
    "colab_type": "code",
    "id": "FGY5ouJrL5xE"
   },
   "outputs": [],
   "source": [
    "table_data = dict()\n",
    "for key in result:\n",
    "    table_data[key] = [result[key]['m*']]\n",
    "\n",
    "draw_table(table_data, title=['m*'], width=[30, 20])"
   ]
  },
  {
   "cell_type": "markdown",
   "metadata": {
    "colab_type": "text",
    "id": "vbMfzZq9L5xG"
   },
   "source": [
    "# Iris"
   ]
  },
  {
   "cell_type": "markdown",
   "metadata": {
    "colab_type": "text",
    "id": "CyhAgLBmL5xG"
   },
   "source": [
    "## Load dataset"
   ]
  },
  {
   "cell_type": "code",
   "execution_count": null,
   "metadata": {
    "colab": {},
    "colab_type": "code",
    "id": "UIVCbOTTL5xG"
   },
   "outputs": [],
   "source": [
    "dataset = pd.read_csv('datasets/iris.csv')\n",
    "\n",
    "y = dataset.iloc[:, dataset.columns == 'answer'].values.reshape(-1)\n",
    "X = dataset.iloc[:, dataset.columns != 'answer'].values\n",
    "\n",
    "X = scale(X)\n",
    "X = np.hstack((X, np.ones([len(X), 1])))"
   ]
  },
  {
   "cell_type": "markdown",
   "metadata": {
    "colab_type": "text",
    "id": "DpFyRGcdL5xJ"
   },
   "source": [
    "## Prepara model"
   ]
  },
  {
   "cell_type": "code",
   "execution_count": null,
   "metadata": {
    "colab": {},
    "colab_type": "code",
    "id": "bKSwaBkjL5xJ"
   },
   "outputs": [],
   "source": [
    "statmodel = LogisticModel\n",
    "\n",
    "models = dict()\n",
    "for key in config:\n",
    "    models[key] = NAME_TO_MODEL[key](statmodel, **config[key])"
   ]
  },
  {
   "cell_type": "markdown",
   "metadata": {
    "colab_type": "text",
    "id": "n6pMcxTcL5xK"
   },
   "source": [
    "## Using models for prediction"
   ]
  },
  {
   "cell_type": "code",
   "execution_count": null,
   "metadata": {
    "colab": {},
    "colab_type": "code",
    "id": "nIKOSgwCL5xL"
   },
   "outputs": [],
   "source": [
    "result = dict()\n",
    "\n",
    "for i, key in enumerate(models):\n",
    "    result[key] = models[key](X, y)\n",
    "    print('{}: {}'.format(key, result[key]['m*']))"
   ]
  },
  {
   "cell_type": "markdown",
   "metadata": {
    "colab_type": "text",
    "id": "wY887gcwL5xN"
   },
   "source": [
    "## Using dumps"
   ]
  },
  {
   "cell_type": "code",
   "execution_count": null,
   "metadata": {
    "colab": {},
    "colab_type": "code",
    "id": "DF5JHr0hL5xN"
   },
   "outputs": [],
   "source": [
    "with open('dumps/ManyDatasetsExperiment/iris.pkl', 'wb') as f:\n",
    "    pickle.dump(result, f)"
   ]
  },
  {
   "cell_type": "code",
   "execution_count": null,
   "metadata": {
    "colab": {},
    "colab_type": "code",
    "id": "R7jbfwc9L5xO"
   },
   "outputs": [],
   "source": [
    "with open('dumps/ManyDatasetsExperiment/iris.pkl', 'rb') as f:\n",
    "    result = pickle.load(f)"
   ]
  },
  {
   "cell_type": "markdown",
   "metadata": {
    "colab_type": "text",
    "id": "y0p05CeNL5xQ"
   },
   "source": [
    "## Rusult for Iris dataset"
   ]
  },
  {
   "cell_type": "code",
   "execution_count": null,
   "metadata": {
    "colab": {},
    "colab_type": "code",
    "id": "OY5NuGK6L5xQ"
   },
   "outputs": [],
   "source": [
    "table_data = dict()\n",
    "for key in result:\n",
    "    table_data[key] = [result[key]['m*']]\n",
    "\n",
    "draw_table(table_data, title=['m*'], width=[30, 20])"
   ]
  }
 ],
 "metadata": {
  "colab": {
   "collapsed_sections": [
    "3U0J3FgBbJPA",
    "1kBTPyBCbSuJ"
   ],
   "name": "ManyDatasetsExperiment.ipynb",
   "provenance": []
  },
  "kernelspec": {
   "display_name": "Python 3",
   "language": "python",
   "name": "python3"
  },
  "language_info": {
   "codemirror_mode": {
    "name": "ipython",
    "version": 3
   },
   "file_extension": ".py",
   "mimetype": "text/x-python",
   "name": "python",
   "nbconvert_exporter": "python",
   "pygments_lexer": "ipython3",
   "version": "3.6.2"
  }
 },
 "nbformat": 4,
 "nbformat_minor": 1
}
