{
 "cells": [
  {
   "cell_type": "markdown",
   "metadata": {
    "colab_type": "text",
    "id": "3U0J3FgBbJPA"
   },
   "source": [
    "# Prepare github data\n",
    "It is necessary to run when you running in google colab"
   ]
  },
  {
   "cell_type": "code",
   "execution_count": 1,
   "metadata": {
    "colab": {
     "base_uri": "https://localhost:8080/",
     "height": 802
    },
    "colab_type": "code",
    "id": "Vo6Vk-dta7j_",
    "outputId": "53b814fb-dc5a-4fc7-d371-1f5bd66f1923"
   },
   "outputs": [],
   "source": [
    "# !git clone https://github.com/andriygav/SampleSizeLib\n",
    "# !pip install SampleSizeLib/src\n",
    "# !git clone https://github.com/ttgadaev/SampleSizeEstimation.git\n",
    "# !mv SampleSizeEstimation/datasets datasets"
   ]
  },
  {
   "cell_type": "markdown",
   "metadata": {
    "colab_type": "text",
    "id": "1kBTPyBCbSuJ"
   },
   "source": [
    "# Import packages"
   ]
  },
  {
   "cell_type": "code",
   "execution_count": 2,
   "metadata": {
    "colab": {},
    "colab_type": "code",
    "id": "Xiq-IJV-a5LF"
   },
   "outputs": [],
   "source": [
    "import pandas as pd\n",
    "import numpy as np\n",
    "import pickle\n",
    "from sklearn.preprocessing import scale\n",
    "import matplotlib.pyplot as plt"
   ]
  },
  {
   "cell_type": "code",
   "execution_count": 3,
   "metadata": {
    "colab": {},
    "colab_type": "code",
    "id": "ag62-R4Ha5LO"
   },
   "outputs": [],
   "source": [
    "from samplesizelib.linear.statistical import LagrangeEstimator\n",
    "from samplesizelib.linear.statistical import LikelihoodRatioEstimator\n",
    "from samplesizelib.linear.statistical import WaldEstimator\n",
    "\n",
    "from samplesizelib.linear.heuristic import CrossValidationEstimator\n",
    "from samplesizelib.linear.heuristic import BootstrapEstimator\n",
    "from samplesizelib.linear.heuristic import LogisticRegressionEstimator\n",
    "\n",
    "from samplesizelib.linear.bayesian import APVCEstimator\n",
    "from samplesizelib.linear.bayesian import ACCEstimator\n",
    "from samplesizelib.linear.bayesian import ALCEstimator\n",
    "from samplesizelib.linear.bayesian import MaxUtilityEstimator\n",
    "from samplesizelib.linear.bayesian import KLEstimator\n",
    "\n",
    "from samplesizelib.linear.models import RegressionModel\n",
    "from samplesizelib.linear.models import LogisticModel"
   ]
  },
  {
   "cell_type": "code",
   "execution_count": 4,
   "metadata": {
    "colab": {},
    "colab_type": "code",
    "id": "Cb1dKE-Pd27F"
   },
   "outputs": [],
   "source": [
    "import warnings\n",
    "from sklearn.exceptions import ConvergenceWarning\n",
    "warnings.filterwarnings(action='ignore', category=ConvergenceWarning)"
   ]
  },
  {
   "cell_type": "markdown",
   "metadata": {
    "colab_type": "text",
    "id": "WRmVLBfGbW-k"
   },
   "source": [
    "# Experiment config for all models"
   ]
  },
  {
   "cell_type": "code",
   "execution_count": 5,
   "metadata": {
    "colab": {},
    "colab_type": "code",
    "id": "Owqn3J6ba5LS"
   },
   "outputs": [],
   "source": [
    "NAME_TO_MODEL = {\n",
    "    'LagrangeEstimator': LagrangeEstimator, \n",
    "    'LikelihoodRatioEstimator': LikelihoodRatioEstimator, \n",
    "    'WaldEstimator': WaldEstimator, \n",
    "    'CrossValidationEstimator': CrossValidationEstimator, \n",
    "    'BootstrapEstimator': BootstrapEstimator, \n",
    "    'LogisticRegressionEstimator': LogisticRegressionEstimator, \n",
    "    'APVCEstimator': APVCEstimator, \n",
    "    'ACCEstimator': ACCEstimator, \n",
    "    'ALCEstimator': ALCEstimator, \n",
    "    'ALCEstimator': ALCEstimator, \n",
    "    'MaxUtilityEstimator': MaxUtilityEstimator, \n",
    "}\n",
    "\n",
    "config = {\n",
    "    'LagrangeEstimator': {'epsilon': 0.3, \n",
    "                          'alpha': 0.05, \n",
    "                          'beta': 0.05},\n",
    "    'LikelihoodRatioEstimator': {'epsilon': 0.3, \n",
    "                                 'alpha': 0.05, \n",
    "                                 'beta': 0.05},\n",
    "    'WaldEstimator': {'epsilon': 0.3, \n",
    "                      'alpha': 0.05, \n",
    "                      'beta': 0.05},\n",
    "    'BootstrapEstimator': {'averaging': 10,\n",
    "                           'epsilon': 0.5, \n",
    "                           'multiprocess': True, \n",
    "                           'progressbar': True},\n",
    "    'CrossValidationEstimator': {'averaging': 10,\n",
    "                                 'test_size': 0.5, \n",
    "                                 'epsilon': 0.05, \n",
    "                                 'multiprocess': True, \n",
    "                                 'progressbar': True},\n",
    "    'APVCEstimator': {'averaging': 10,\n",
    "                      'epsilon': 0.5, \n",
    "                      'multiprocess': True, \n",
    "                      'progressbar': True},\n",
    "    'ACCEstimator': {'averaging': 10,\n",
    "                     'length': 0.25,\n",
    "                     'alpha': 0.05, \n",
    "                     'multiprocess': True, \n",
    "                     'progressbar': True},\n",
    "    'ALCEstimator': {'averaging': 10,\n",
    "                     'length': 0.5,\n",
    "                     'alpha': 0.05, \n",
    "                     'multiprocess': True, \n",
    "                     'progressbar': True},\n",
    "    'MaxUtilityEstimator': {'averaging': 10,\n",
    "                            'c': 0.5, \n",
    "                            'multiprocess': True, \n",
    "                            'progressbar': True},\n",
    "}"
   ]
  },
  {
   "cell_type": "code",
   "execution_count": 6,
   "metadata": {
    "colab": {},
    "colab_type": "code",
    "id": "sfUiUVOnBR76"
   },
   "outputs": [],
   "source": [
    "def draw_table(data, title = [\"PRECISION\", \"RECALL\", \"F-SCORE\"], width = [20]*(1+3)):\n",
    "    \"\"\"\n",
    "    data is a dict with format\n",
    "        {row_name_1: (title[0], title[1], ...), \n",
    "         row_name_2: (title[0], title[1], ...), \n",
    "         ...}\n",
    "    \"\"\"\n",
    "    print('#'*(sum(width) + len(width) + 1))\n",
    "    \n",
    "    row_format = '|' + '|'.join([(\"{:>\"+str(w)+\"}\") for w in width]) + '|'\n",
    "    \n",
    "    print(row_format.format(\"-\"*width[0], *[\"-\"*width[i+1] for i, _ in enumerate(title)]))\n",
    "    print(row_format.format(\"\", *title))\n",
    "    print(row_format.format(\"-\"*width[0], *[\"-\"*width[i+1] for i, _ in enumerate(title)]))\n",
    "    for key in data:\n",
    "        if len(key) > width[0]:\n",
    "            row_name = '...' + key[len(key)-width[0]+3:]\n",
    "        else:\n",
    "            row_name = key\n",
    "        print(row_format.format(row_name, *[round(x, 2) for x in data[key]]))\n",
    "        print(row_format.format(\"-\"*width[0], *[\"-\"*width[i+1] for i, _ in enumerate(title)]))\n",
    "    \n",
    "    print('#'*(sum(width) + len(width) + 1))"
   ]
  },
  {
   "cell_type": "markdown",
   "metadata": {
    "colab_type": "text",
    "id": "UI_Vb-0-a5LV"
   },
   "source": [
    "# Abalone"
   ]
  },
  {
   "cell_type": "markdown",
   "metadata": {
    "colab_type": "text",
    "id": "5oRDJqq9a5LW"
   },
   "source": [
    "Load dataset"
   ]
  },
  {
   "cell_type": "code",
   "execution_count": 7,
   "metadata": {
    "colab": {},
    "colab_type": "code",
    "id": "4KnxiDzna5LW"
   },
   "outputs": [],
   "source": [
    "dataset = pd.read_csv('datasets/abalone.csv')\n",
    "\n",
    "y = dataset.iloc[:, dataset.columns == 'answer'].values.reshape(-1)\n",
    "X = dataset.iloc[:, dataset.columns != 'answer'].values\n",
    "\n",
    "X = scale(X)\n",
    "X = np.hstack((X, np.ones([len(X), 1])))"
   ]
  },
  {
   "cell_type": "code",
   "execution_count": 8,
   "metadata": {
    "colab": {},
    "colab_type": "code",
    "id": "dTn-_O-La5LZ"
   },
   "outputs": [],
   "source": [
    "statmodel = LogisticModel\n",
    "\n",
    "models = dict()\n",
    "for key in config:\n",
    "    models[key] = NAME_TO_MODEL[key](statmodel, **config[key])"
   ]
  },
  {
   "cell_type": "code",
   "execution_count": 9,
   "metadata": {
    "colab": {
     "base_uri": "https://localhost:8080/",
     "height": 272
    },
    "colab_type": "code",
    "id": "dcArAJSWa5Lb",
    "outputId": "fedf17d6-61a1-448a-8ab6-5a98bf8811a8"
   },
   "outputs": [],
   "source": [
    "# result = dict()\n",
    "\n",
    "# for i, key in enumerate(models):\n",
    "#     result[key] = models[key](X, y)\n",
    "#     print('{}: {}'.format(key, result[key]['m*']))"
   ]
  },
  {
   "cell_type": "code",
   "execution_count": 10,
   "metadata": {
    "colab": {},
    "colab_type": "code",
    "id": "j6y-Q560Byf9"
   },
   "outputs": [],
   "source": [
    "# with open('dumps/ManyDatasetsExperiment/abalone.pkl', 'wb') as f:\n",
    "#     pickle.dump(result, f)"
   ]
  },
  {
   "cell_type": "code",
   "execution_count": 11,
   "metadata": {
    "colab": {},
    "colab_type": "code",
    "id": "SC_aIGFpCMtN"
   },
   "outputs": [],
   "source": [
    "with open('dumps/ManyDatasetsExperiment/abalone.pkl', 'rb') as f:\n",
    "    result = pickle.load(f)"
   ]
  },
  {
   "cell_type": "code",
   "execution_count": 12,
   "metadata": {
    "colab": {},
    "colab_type": "code",
    "id": "V8xbx6TvioO7"
   },
   "outputs": [
    {
     "name": "stdout",
     "output_type": "stream",
     "text": [
      "#####################################################\n",
      "|------------------------------|--------------------|\n",
      "|                              |                  m*|\n",
      "|------------------------------|--------------------|\n",
      "|             LagrangeEstimator|                1315|\n",
      "|------------------------------|--------------------|\n",
      "|      LikelihoodRatioEstimator|                 329|\n",
      "|------------------------------|--------------------|\n",
      "|                 WaldEstimator|                1092|\n",
      "|------------------------------|--------------------|\n",
      "|            BootstrapEstimator|                2869|\n",
      "|------------------------------|--------------------|\n",
      "|      CrossValidationEstimator|                  63|\n",
      "|------------------------------|--------------------|\n",
      "|                 APVCEstimator|                2573|\n",
      "|------------------------------|--------------------|\n",
      "|                  ACCEstimator|                2869|\n",
      "|------------------------------|--------------------|\n",
      "|                  ALCEstimator|                2869|\n",
      "|------------------------------|--------------------|\n",
      "|           MaxUtilityEstimator|                 138|\n",
      "|------------------------------|--------------------|\n",
      "#####################################################\n"
     ]
    }
   ],
   "source": [
    "table_data = dict()\n",
    "for key in result:\n",
    "    table_data[key] = [result[key]['m*']]\n",
    "\n",
    "draw_table(table_data, title=['m*'], width=[30, 20])"
   ]
  }
 ],
 "metadata": {
  "colab": {
   "collapsed_sections": [
    "3U0J3FgBbJPA",
    "1kBTPyBCbSuJ"
   ],
   "name": "ManyDatasetsExperiment.ipynb",
   "provenance": []
  },
  "kernelspec": {
   "display_name": "Python 3",
   "language": "python",
   "name": "python3"
  },
  "language_info": {
   "codemirror_mode": {
    "name": "ipython",
    "version": 3
   },
   "file_extension": ".py",
   "mimetype": "text/x-python",
   "name": "python",
   "nbconvert_exporter": "python",
   "pygments_lexer": "ipython3",
   "version": "3.6.2"
  }
 },
 "nbformat": 4,
 "nbformat_minor": 1
}
