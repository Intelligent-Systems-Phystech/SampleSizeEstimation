{
 "cells": [
  {
   "cell_type": "code",
   "execution_count": 1,
   "metadata": {},
   "outputs": [],
   "source": [
    "import pandas as pd\n",
    "import numpy as np\n",
    "from sklearn.preprocessing import scale"
   ]
  },
  {
   "cell_type": "code",
   "execution_count": 2,
   "metadata": {},
   "outputs": [],
   "source": [
    "from samplesizelib.linear.statistical import LagrangeEstimator\n",
    "from samplesizelib.linear.statistical import LikelihoodRatioEstimator\n",
    "from samplesizelib.linear.statistical import WaldEstimator\n",
    "\n",
    "from samplesizelib.linear.heuristic import CrossValidationEstimator\n",
    "from samplesizelib.linear.heuristic import BootstrapEstimator\n",
    "from samplesizelib.linear.heuristic import LogisticRegressionEstimator\n",
    "\n",
    "from samplesizelib.linear.bayesian import APVCEstimator\n",
    "from samplesizelib.linear.bayesian import ACCEstimator\n",
    "from samplesizelib.linear.bayesian import ALCEstimator\n",
    "from samplesizelib.linear.bayesian import MaxUtilityEstimator\n",
    "from samplesizelib.linear.bayesian import KLEstimator\n",
    "\n",
    "from samplesizelib.linear.models import RegressionModel\n",
    "from samplesizelib.linear.models import LogisticModel"
   ]
  },
  {
   "cell_type": "code",
   "execution_count": 3,
   "metadata": {},
   "outputs": [],
   "source": [
    "NAME_TO_MODEL = {\n",
    "    'LagrangeEstimator': LagrangeEstimator, \n",
    "    'LikelihoodRatioEstimator': LikelihoodRatioEstimator, \n",
    "    'WaldEstimator': WaldEstimator, \n",
    "    'CrossValidationEstimator': CrossValidationEstimator, \n",
    "    'BootstrapEstimator': BootstrapEstimator, \n",
    "    'LogisticRegressionEstimator': LogisticRegressionEstimator, \n",
    "    'APVCEstimator': APVCEstimator, \n",
    "    'ACCEstimator': ACCEstimator, \n",
    "    'ALCEstimator': ALCEstimator, \n",
    "    'ALCEstimator': ALCEstimator, \n",
    "    'MaxUtilityEstimator': MaxUtilityEstimator, \n",
    "    'KLEstimator': KLEstimator\n",
    "}\n",
    "\n",
    "config = {\n",
    "    'LagrangeEstimator': {'epsilon': 0.3, \n",
    "                          'alpha': 0.05, \n",
    "                          'beta': 0.05},\n",
    "    'LikelihoodRatioEstimator': {'epsilon': 0.3, \n",
    "                                 'alpha': 0.05, \n",
    "                                 'beta': 0.05},\n",
    "    'WaldEstimator': {'epsilon': 0.3, \n",
    "                      'alpha': 0.05, \n",
    "                      'beta': 0.05},\n",
    "    'BootstrapEstimator': {'averaging': 10,\n",
    "                           'epsilon': 0.5},\n",
    "    'CrossValidationEstimator': {'averaging': 10,\n",
    "                                 'test_size': 0.5, \n",
    "                                 'epsilon': 0.05},\n",
    "    'APVCEstimator': {'averaging': 10,\n",
    "                      'epsilon': 0.5},\n",
    "    'ACCEstimator': {'averaging': 10,\n",
    "                     'length': 0.25,\n",
    "                     'alpha': 0.05},\n",
    "    'ALCEstimator': {'averaging': 10,\n",
    "                     'length': 0.5,\n",
    "                     'alpha': 0.05},\n",
    "    'MaxUtilityEstimator': {'averaging': 10,\n",
    "                            'c': 0.5},\n",
    "    'KLEstimator': {'averaging': 5,\n",
    "                    'epsilon': 0.5}\n",
    "}"
   ]
  },
  {
   "cell_type": "markdown",
   "metadata": {},
   "source": [
    "# Abalone"
   ]
  },
  {
   "cell_type": "markdown",
   "metadata": {},
   "source": [
    "Load dataset"
   ]
  },
  {
   "cell_type": "code",
   "execution_count": 4,
   "metadata": {},
   "outputs": [],
   "source": [
    "dataset = pd.read_csv('datasets/abalone.csv')\n",
    "\n",
    "y = dataset.iloc[:, dataset.columns == 'answer'].values\n",
    "X = dataset.iloc[:, dataset.columns != 'answer'].values\n",
    "\n",
    "X = scale(X)\n",
    "X = np.hstack((X, np.ones([len(X), 1])))"
   ]
  },
  {
   "cell_type": "code",
   "execution_count": 6,
   "metadata": {},
   "outputs": [],
   "source": [
    "statmodel = LogisticRegressionEstimator\n",
    "\n",
    "models = dict()\n",
    "for key in config:\n",
    "    models[key] = NAME_TO_MODEL[key](statmodel, **config[key])"
   ]
  },
  {
   "cell_type": "code",
   "execution_count": 7,
   "metadata": {},
   "outputs": [
    {
     "ename": "NameError",
     "evalue": "name 'self' is not defined",
     "output_type": "error",
     "traceback": [
      "\u001b[0;31m---------------------------------------------------------------------------\u001b[0m",
      "\u001b[0;31mNameError\u001b[0m                                 Traceback (most recent call last)",
      "\u001b[0;32m<ipython-input-7-3e5c89daa5a3>\u001b[0m in \u001b[0;36m<module>\u001b[0;34m\u001b[0m\n\u001b[1;32m      1\u001b[0m \u001b[0mresult\u001b[0m \u001b[0;34m=\u001b[0m \u001b[0mdict\u001b[0m\u001b[0;34m(\u001b[0m\u001b[0;34m)\u001b[0m\u001b[0;34m\u001b[0m\u001b[0m\n\u001b[1;32m      2\u001b[0m \u001b[0;34m\u001b[0m\u001b[0m\n\u001b[0;32m----> 3\u001b[0;31m \u001b[0;32mfor\u001b[0m \u001b[0mi\u001b[0m\u001b[0;34m,\u001b[0m \u001b[0mkey\u001b[0m \u001b[0;32min\u001b[0m \u001b[0menumerate\u001b[0m\u001b[0;34m(\u001b[0m\u001b[0mself\u001b[0m\u001b[0;34m.\u001b[0m\u001b[0mmodels\u001b[0m\u001b[0;34m)\u001b[0m\u001b[0;34m:\u001b[0m\u001b[0;34m\u001b[0m\u001b[0m\n\u001b[0m\u001b[1;32m      4\u001b[0m     \u001b[0mresult\u001b[0m\u001b[0;34m[\u001b[0m\u001b[0mkey\u001b[0m\u001b[0;34m]\u001b[0m \u001b[0;34m=\u001b[0m \u001b[0mmodels\u001b[0m\u001b[0;34m[\u001b[0m\u001b[0mkey\u001b[0m\u001b[0;34m]\u001b[0m\u001b[0;34m(\u001b[0m\u001b[0mX\u001b[0m\u001b[0;34m,\u001b[0m \u001b[0my\u001b[0m\u001b[0;34m)\u001b[0m\u001b[0;34m\u001b[0m\u001b[0m\n",
      "\u001b[0;31mNameError\u001b[0m: name 'self' is not defined"
     ]
    }
   ],
   "source": [
    "result = dict()\n",
    "\n",
    "for i, key in enumerate(models):\n",
    "    result[key] = models[key](X, y)"
   ]
  },
  {
   "cell_type": "code",
   "execution_count": null,
   "metadata": {},
   "outputs": [],
   "source": []
  }
 ],
 "metadata": {
  "kernelspec": {
   "display_name": "Python 3",
   "language": "python",
   "name": "python3"
  },
  "language_info": {
   "codemirror_mode": {
    "name": "ipython",
    "version": 3
   },
   "file_extension": ".py",
   "mimetype": "text/x-python",
   "name": "python",
   "nbconvert_exporter": "python",
   "pygments_lexer": "ipython3",
   "version": "3.6.2"
  }
 },
 "nbformat": 4,
 "nbformat_minor": 4
}
