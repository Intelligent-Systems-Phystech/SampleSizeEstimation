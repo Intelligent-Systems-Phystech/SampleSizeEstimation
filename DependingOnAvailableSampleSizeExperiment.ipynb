{
 "cells": [
  {
   "cell_type": "markdown",
   "metadata": {},
   "source": [
    "# Prepare github data"
   ]
  },
  {
   "cell_type": "markdown",
   "metadata": {},
   "source": [
    "It is necessary to run when you running in google colab"
   ]
  },
  {
   "cell_type": "code",
   "execution_count": 1,
   "metadata": {},
   "outputs": [],
   "source": [
    "# !git clone https://github.com/andriygav/SampleSizeLib\n",
    "# !pip install SampleSizeLib/src\n",
    "# !git clone https://github.com/ttgadaev/SampleSizeEstimation.git\n",
    "# !mv SampleSizeEstimation/datasets datasets\n",
    "# !mv SampleSizeEstimation/dumps dumps"
   ]
  },
  {
   "cell_type": "markdown",
   "metadata": {},
   "source": [
    "# Import packages"
   ]
  },
  {
   "cell_type": "code",
   "execution_count": 2,
   "metadata": {},
   "outputs": [],
   "source": [
    "from tqdm import tqdm\n",
    "import pandas as pd\n",
    "import numpy as np\n",
    "import pickle\n",
    "from sklearn.preprocessing import scale\n",
    "import matplotlib.pyplot as plt"
   ]
  },
  {
   "cell_type": "code",
   "execution_count": 3,
   "metadata": {},
   "outputs": [],
   "source": [
    "from samplesizelib.linear.statistical import LagrangeEstimator\n",
    "from samplesizelib.linear.statistical import LikelihoodRatioEstimator\n",
    "from samplesizelib.linear.statistical import WaldEstimator\n",
    "\n",
    "from samplesizelib.linear.heuristic import CrossValidationEstimator\n",
    "from samplesizelib.linear.heuristic import BootstrapEstimator\n",
    "from samplesizelib.linear.heuristic import LogisticRegressionEstimator\n",
    "\n",
    "from samplesizelib.linear.bayesian import APVCEstimator\n",
    "from samplesizelib.linear.bayesian import ACCEstimator\n",
    "from samplesizelib.linear.bayesian import ALCEstimator\n",
    "from samplesizelib.linear.bayesian import MaxUtilityEstimator\n",
    "from samplesizelib.linear.bayesian import KLEstimator\n",
    "\n",
    "from samplesizelib.shared.utils import Dataset\n",
    "\n",
    "from samplesizelib.linear.models import RegressionModel\n",
    "from samplesizelib.linear.models import LogisticModel"
   ]
  },
  {
   "cell_type": "code",
   "execution_count": 4,
   "metadata": {},
   "outputs": [],
   "source": [
    "import warnings\n",
    "from sklearn.exceptions import ConvergenceWarning\n",
    "warnings.filterwarnings(action='ignore', category=ConvergenceWarning)"
   ]
  },
  {
   "cell_type": "markdown",
   "metadata": {},
   "source": [
    "# Experiment config for all models"
   ]
  },
  {
   "cell_type": "code",
   "execution_count": 5,
   "metadata": {},
   "outputs": [],
   "source": [
    "NAME_TO_MODEL = {\n",
    "    'LagrangeEstimator': LagrangeEstimator, \n",
    "    'LikelihoodRatioEstimator': LikelihoodRatioEstimator, \n",
    "    'WaldEstimator': WaldEstimator, \n",
    "    'CrossValidationEstimator': CrossValidationEstimator, \n",
    "    'BootstrapEstimator': BootstrapEstimator, \n",
    "    'LogisticRegressionEstimator': LogisticRegressionEstimator, \n",
    "    'APVCEstimator': APVCEstimator, \n",
    "    'ACCEstimator': ACCEstimator, \n",
    "    'ALCEstimator': ALCEstimator, \n",
    "    'ALCEstimator': ALCEstimator, \n",
    "    'MaxUtilityEstimator': MaxUtilityEstimator, \n",
    "}\n",
    "\n",
    "config = {\n",
    "    'LagrangeEstimator': {'epsilon': 0.2, \n",
    "                          'alpha': 0.05, \n",
    "                          'beta': 0.2},\n",
    "    'LikelihoodRatioEstimator': {'epsilon': 0.2, \n",
    "                                 'alpha': 0.05, \n",
    "                                 'beta': 0.2},\n",
    "    'WaldEstimator': {'epsilon': 0.2, \n",
    "                      'alpha': 0.05, \n",
    "                      'beta': 0.2},\n",
    "    'BootstrapEstimator': {'averaging': 100,\n",
    "                           'epsilon': 0.5, \n",
    "                           'multiprocess': True, \n",
    "                           'progressbar': False},\n",
    "    'CrossValidationEstimator': {'averaging': 100,\n",
    "                                 'test_size': 0.5, \n",
    "                                 'epsilon': 0.05, \n",
    "                                 'multiprocess': True, \n",
    "                                 'progressbar': False},\n",
    "    'APVCEstimator': {'averaging': 100,\n",
    "                      'epsilon': 0.5, \n",
    "                      'multiprocess': True, \n",
    "                      'progressbar': False},\n",
    "    'ACCEstimator': {'averaging': 100,\n",
    "                     'length': 0.25,\n",
    "                     'alpha': 0.05, \n",
    "                     'multiprocess': True, \n",
    "                     'progressbar': False},\n",
    "    'ALCEstimator': {'averaging': 100,\n",
    "                     'length': 0.5,\n",
    "                     'alpha': 0.05, \n",
    "                     'multiprocess': True, \n",
    "                     'progressbar': False}\n",
    "}\n",
    "\n",
    "# The point where m* will be calculated\n",
    "sample_sizes = [35, 70, 100, 120, 140, 160, 180, 200, 220, 240]\n",
    "averaging = 50"
   ]
  },
  {
   "cell_type": "markdown",
   "metadata": {},
   "source": [
    "# Boston Housing"
   ]
  },
  {
   "cell_type": "markdown",
   "metadata": {},
   "source": [
    "In this computational experiment we are using Boston Housing dataset."
   ]
  },
  {
   "cell_type": "markdown",
   "metadata": {},
   "source": [
    "## Load dataset"
   ]
  },
  {
   "cell_type": "code",
   "execution_count": 6,
   "metadata": {},
   "outputs": [],
   "source": [
    "dataset = pd.read_csv('datasets/boston.csv')\n",
    "\n",
    "y = dataset.iloc[:, dataset.columns == 'answer'].values.reshape(-1)\n",
    "X = dataset.iloc[:, dataset.columns != 'answer'].values\n",
    "\n",
    "X = scale(X)\n",
    "y = scale(y)\n",
    "X = np.hstack((X, np.ones([len(X), 1])))\n",
    "\n",
    "data = Dataset(X, y)"
   ]
  },
  {
   "cell_type": "markdown",
   "metadata": {},
   "source": [
    "## Make prediction for different available sample size of dataset"
   ]
  },
  {
   "cell_type": "markdown",
   "metadata": {},
   "source": [
    "### Prepara model"
   ]
  },
  {
   "cell_type": "code",
   "execution_count": 7,
   "metadata": {},
   "outputs": [],
   "source": [
    "statmodel = RegressionModel"
   ]
  },
  {
   "cell_type": "markdown",
   "metadata": {},
   "source": [
    "### LagrangeEstimator"
   ]
  },
  {
   "cell_type": "code",
   "execution_count": 8,
   "metadata": {},
   "outputs": [
    {
     "name": "stderr",
     "output_type": "stream",
     "text": [
      "100%|██████████| 10/10 [00:42<00:00,  4.23s/it]\n"
     ]
    }
   ],
   "source": [
    "key = 'LagrangeEstimator'\n",
    "model = NAME_TO_MODEL[key](statmodel, **config[key])\n",
    "\n",
    "result = dict()\n",
    "list_of_m_size_mean = []\n",
    "list_of_m_size_std = []\n",
    "for m in tqdm(sample_sizes):\n",
    "    list_of_res = []\n",
    "    for _ in range(averaging):\n",
    "        X_m, y_m = data.sample(m=m, duplications=False)\n",
    "        res = model(X_m, y_m)\n",
    "        list_of_res.append(res['m*'])\n",
    "    list_of_m_size_mean.append(np.mean(list_of_res))\n",
    "    list_of_m_size_std.append(np.std(list_of_res))\n",
    "    \n",
    "result['list_of_m_size_mean'] = np.array(list_of_m_size_mean)\n",
    "result['list_of_m_size_std'] = np.array(list_of_m_size_std)"
   ]
  },
  {
   "cell_type": "code",
   "execution_count": 14,
   "metadata": {},
   "outputs": [],
   "source": [
    "with open('dumps/DependingOnAvailableSampleSizeExperiment/{}.pkl'.format(key), 'wb') as f:\n",
    "    pickle.dump(result, f)"
   ]
  },
  {
   "cell_type": "code",
   "execution_count": 15,
   "metadata": {},
   "outputs": [],
   "source": [
    "with open('dumps/DependingOnAvailableSampleSizeExperiment/{}.pkl'.format(key), 'rb') as f:\n",
    "    result = pickle.load(f)"
   ]
  },
  {
   "cell_type": "markdown",
   "metadata": {},
   "source": [
    "### LikelihoodRatioEstimator"
   ]
  },
  {
   "cell_type": "code",
   "execution_count": 8,
   "metadata": {},
   "outputs": [
    {
     "name": "stderr",
     "output_type": "stream",
     "text": [
      "100%|██████████| 10/10 [00:42<00:00,  4.23s/it]\n"
     ]
    }
   ],
   "source": [
    "key = 'LikelihoodRatioEstimator'\n",
    "model = NAME_TO_MODEL[key](statmodel, **config[key])\n",
    "\n",
    "result = dict()\n",
    "list_of_m_size_mean = []\n",
    "list_of_m_size_std = []\n",
    "for m in tqdm(sample_sizes):\n",
    "    list_of_res = []\n",
    "    for _ in range(averaging):\n",
    "        X_m, y_m = data.sample(m=m, duplications=False)\n",
    "        res = model(X_m, y_m)\n",
    "        list_of_res.append(res['m*'])\n",
    "    list_of_m_size_mean.append(np.mean(list_of_res))\n",
    "    list_of_m_size_std.append(np.std(list_of_res))\n",
    "    \n",
    "result['list_of_m_size_mean'] = np.array(list_of_m_size_mean)\n",
    "result['list_of_m_size_std'] = np.array(list_of_m_size_std)"
   ]
  },
  {
   "cell_type": "code",
   "execution_count": 10,
   "metadata": {},
   "outputs": [],
   "source": [
    "with open('dumps/DependingOnAvailableSampleSizeExperiment/{}.pkl'.format(key), 'wb') as f:\n",
    "    pickle.dump(result, f)"
   ]
  },
  {
   "cell_type": "code",
   "execution_count": 11,
   "metadata": {},
   "outputs": [],
   "source": [
    "with open('dumps/DependingOnAvailableSampleSizeExperiment/{}.pkl'.format(key), 'rb') as f:\n",
    "    result = pickle.load(f)"
   ]
  },
  {
   "cell_type": "markdown",
   "metadata": {},
   "source": [
    "### WaldEstimator"
   ]
  },
  {
   "cell_type": "code",
   "execution_count": 8,
   "metadata": {},
   "outputs": [
    {
     "name": "stderr",
     "output_type": "stream",
     "text": [
      "100%|██████████| 10/10 [00:42<00:00,  4.23s/it]\n"
     ]
    }
   ],
   "source": [
    "key = 'WaldEstimator'\n",
    "model = NAME_TO_MODEL[key](statmodel, **config[key])\n",
    "\n",
    "result = dict()\n",
    "list_of_m_size_mean = []\n",
    "list_of_m_size_std = []\n",
    "for m in tqdm(sample_sizes):\n",
    "    list_of_res = []\n",
    "    for _ in range(averaging):\n",
    "        X_m, y_m = data.sample(m=m, duplications=False)\n",
    "        res = model(X_m, y_m)\n",
    "        list_of_res.append(res['m*'])\n",
    "    list_of_m_size_mean.append(np.mean(list_of_res))\n",
    "    list_of_m_size_std.append(np.std(list_of_res))\n",
    "    \n",
    "result['list_of_m_size_mean'] = np.array(list_of_m_size_mean)\n",
    "result['list_of_m_size_std'] = np.array(list_of_m_size_std)"
   ]
  },
  {
   "cell_type": "code",
   "execution_count": 10,
   "metadata": {},
   "outputs": [],
   "source": [
    "with open('dumps/DependingOnAvailableSampleSizeExperiment/{}.pkl'.format(key), 'wb') as f:\n",
    "    pickle.dump(result, f)"
   ]
  },
  {
   "cell_type": "code",
   "execution_count": 11,
   "metadata": {},
   "outputs": [],
   "source": [
    "with open('dumps/DependingOnAvailableSampleSizeExperiment/{}.pkl'.format(key), 'rb') as f:\n",
    "    result = pickle.load(f)"
   ]
  },
  {
   "cell_type": "markdown",
   "metadata": {},
   "source": [
    "### BootstrapEstimator"
   ]
  },
  {
   "cell_type": "code",
   "execution_count": 8,
   "metadata": {},
   "outputs": [
    {
     "name": "stderr",
     "output_type": "stream",
     "text": [
      "100%|██████████| 10/10 [00:42<00:00,  4.23s/it]\n"
     ]
    }
   ],
   "source": [
    "key = 'BootstrapEstimator'\n",
    "model = NAME_TO_MODEL[key](statmodel, **config[key])\n",
    "\n",
    "result = dict()\n",
    "list_of_m_size_mean = []\n",
    "list_of_m_size_std = []\n",
    "for m in tqdm(sample_sizes):\n",
    "    list_of_res = []\n",
    "    for _ in range(averaging):\n",
    "        X_m, y_m = data.sample(m=m, duplications=False)\n",
    "        res = model(X_m, y_m)\n",
    "        list_of_res.append(res['m*'])\n",
    "    list_of_m_size_mean.append(np.mean(list_of_res))\n",
    "    list_of_m_size_std.append(np.std(list_of_res))\n",
    "    \n",
    "result['list_of_m_size_mean'] = np.array(list_of_m_size_mean)\n",
    "result['list_of_m_size_std'] = np.array(list_of_m_size_std)"
   ]
  },
  {
   "cell_type": "code",
   "execution_count": 10,
   "metadata": {},
   "outputs": [],
   "source": [
    "with open('dumps/DependingOnAvailableSampleSizeExperiment/{}.pkl'.format(key), 'wb') as f:\n",
    "    pickle.dump(result, f)"
   ]
  },
  {
   "cell_type": "code",
   "execution_count": 11,
   "metadata": {},
   "outputs": [],
   "source": [
    "with open('dumps/DependingOnAvailableSampleSizeExperiment/{}.pkl'.format(key), 'rb') as f:\n",
    "    result = pickle.load(f)"
   ]
  },
  {
   "cell_type": "markdown",
   "metadata": {},
   "source": [
    "### CrossValidationEstimator"
   ]
  },
  {
   "cell_type": "code",
   "execution_count": 8,
   "metadata": {},
   "outputs": [
    {
     "name": "stderr",
     "output_type": "stream",
     "text": [
      "100%|██████████| 10/10 [00:42<00:00,  4.23s/it]\n"
     ]
    }
   ],
   "source": [
    "key = 'CrossValidationEstimator'\n",
    "model = NAME_TO_MODEL[key](statmodel, **config[key])\n",
    "\n",
    "result = dict()\n",
    "list_of_m_size_mean = []\n",
    "list_of_m_size_std = []\n",
    "for m in tqdm(sample_sizes):\n",
    "    list_of_res = []\n",
    "    for _ in range(averaging):\n",
    "        X_m, y_m = data.sample(m=m, duplications=False)\n",
    "        res = model(X_m, y_m)\n",
    "        list_of_res.append(res['m*'])\n",
    "    list_of_m_size_mean.append(np.mean(list_of_res))\n",
    "    list_of_m_size_std.append(np.std(list_of_res))\n",
    "    \n",
    "result['list_of_m_size_mean'] = np.array(list_of_m_size_mean)\n",
    "result['list_of_m_size_std'] = np.array(list_of_m_size_std)"
   ]
  },
  {
   "cell_type": "code",
   "execution_count": 10,
   "metadata": {},
   "outputs": [],
   "source": [
    "with open('dumps/DependingOnAvailableSampleSizeExperiment/{}.pkl'.format(key), 'wb') as f:\n",
    "    pickle.dump(result, f)"
   ]
  },
  {
   "cell_type": "code",
   "execution_count": 11,
   "metadata": {},
   "outputs": [],
   "source": [
    "with open('dumps/DependingOnAvailableSampleSizeExperiment/{}.pkl'.format(key), 'rb') as f:\n",
    "    result = pickle.load(f)"
   ]
  },
  {
   "cell_type": "markdown",
   "metadata": {},
   "source": [
    "### APVCEstimator"
   ]
  },
  {
   "cell_type": "code",
   "execution_count": 8,
   "metadata": {},
   "outputs": [
    {
     "name": "stderr",
     "output_type": "stream",
     "text": [
      "100%|██████████| 10/10 [00:42<00:00,  4.23s/it]\n"
     ]
    }
   ],
   "source": [
    "key = 'APVCEstimator'\n",
    "model = NAME_TO_MODEL[key](statmodel, **config[key])\n",
    "\n",
    "result = dict()\n",
    "list_of_m_size_mean = []\n",
    "list_of_m_size_std = []\n",
    "for m in tqdm(sample_sizes):\n",
    "    list_of_res = []\n",
    "    for _ in range(averaging):\n",
    "        X_m, y_m = data.sample(m=m, duplications=False)\n",
    "        res = model(X_m, y_m)\n",
    "        list_of_res.append(res['m*'])\n",
    "    list_of_m_size_mean.append(np.mean(list_of_res))\n",
    "    list_of_m_size_std.append(np.std(list_of_res))\n",
    "    \n",
    "result['list_of_m_size_mean'] = np.array(list_of_m_size_mean)\n",
    "result['list_of_m_size_std'] = np.array(list_of_m_size_std)"
   ]
  },
  {
   "cell_type": "code",
   "execution_count": 10,
   "metadata": {},
   "outputs": [],
   "source": [
    "with open('dumps/DependingOnAvailableSampleSizeExperiment/{}.pkl'.format(key), 'wb') as f:\n",
    "    pickle.dump(result, f)"
   ]
  },
  {
   "cell_type": "code",
   "execution_count": 11,
   "metadata": {},
   "outputs": [],
   "source": [
    "with open('dumps/DependingOnAvailableSampleSizeExperiment/{}.pkl'.format(key), 'rb') as f:\n",
    "    result = pickle.load(f)"
   ]
  },
  {
   "cell_type": "markdown",
   "metadata": {},
   "source": [
    "### ACCEstimator"
   ]
  },
  {
   "cell_type": "code",
   "execution_count": 8,
   "metadata": {},
   "outputs": [
    {
     "name": "stderr",
     "output_type": "stream",
     "text": [
      "100%|██████████| 10/10 [00:42<00:00,  4.23s/it]\n"
     ]
    }
   ],
   "source": [
    "key = 'ACCEstimator'\n",
    "model = NAME_TO_MODEL[key](statmodel, **config[key])\n",
    "\n",
    "result = dict()\n",
    "list_of_m_size_mean = []\n",
    "list_of_m_size_std = []\n",
    "for m in tqdm(sample_sizes):\n",
    "    list_of_res = []\n",
    "    for _ in range(averaging):\n",
    "        X_m, y_m = data.sample(m=m, duplications=False)\n",
    "        res = model(X_m, y_m)\n",
    "        list_of_res.append(res['m*'])\n",
    "    list_of_m_size_mean.append(np.mean(list_of_res))\n",
    "    list_of_m_size_std.append(np.std(list_of_res))\n",
    "    \n",
    "result['list_of_m_size_mean'] = np.array(list_of_m_size_mean)\n",
    "result['list_of_m_size_std'] = np.array(list_of_m_size_std)"
   ]
  },
  {
   "cell_type": "code",
   "execution_count": 10,
   "metadata": {},
   "outputs": [],
   "source": [
    "with open('dumps/DependingOnAvailableSampleSizeExperiment/{}.pkl'.format(key), 'wb') as f:\n",
    "    pickle.dump(result, f)"
   ]
  },
  {
   "cell_type": "code",
   "execution_count": 11,
   "metadata": {},
   "outputs": [],
   "source": [
    "with open('dumps/DependingOnAvailableSampleSizeExperiment/{}.pkl'.format(key), 'rb') as f:\n",
    "    result = pickle.load(f)"
   ]
  },
  {
   "cell_type": "markdown",
   "metadata": {},
   "source": [
    "### ALCEstimator"
   ]
  },
  {
   "cell_type": "code",
   "execution_count": 8,
   "metadata": {},
   "outputs": [
    {
     "name": "stderr",
     "output_type": "stream",
     "text": [
      "100%|██████████| 10/10 [00:42<00:00,  4.23s/it]\n"
     ]
    }
   ],
   "source": [
    "key = 'ALCEstimator'\n",
    "model = NAME_TO_MODEL[key](statmodel, **config[key])\n",
    "\n",
    "result = dict()\n",
    "list_of_m_size_mean = []\n",
    "list_of_m_size_std = []\n",
    "for m in tqdm(sample_sizes):\n",
    "    list_of_res = []\n",
    "    for _ in range(averaging):\n",
    "        X_m, y_m = data.sample(m=m, duplications=False)\n",
    "        res = model(X_m, y_m)\n",
    "        list_of_res.append(res['m*'])\n",
    "    list_of_m_size_mean.append(np.mean(list_of_res))\n",
    "    list_of_m_size_std.append(np.std(list_of_res))\n",
    "    \n",
    "result['list_of_m_size_mean'] = np.array(list_of_m_size_mean)\n",
    "result['list_of_m_size_std'] = np.array(list_of_m_size_std)"
   ]
  },
  {
   "cell_type": "code",
   "execution_count": 10,
   "metadata": {},
   "outputs": [],
   "source": [
    "with open('dumps/DependingOnAvailableSampleSizeExperiment/{}.pkl'.format(key), 'wb') as f:\n",
    "    pickle.dump(result, f)"
   ]
  },
  {
   "cell_type": "code",
   "execution_count": 11,
   "metadata": {},
   "outputs": [],
   "source": [
    "with open('dumps/DependingOnAvailableSampleSizeExperiment/{}.pkl'.format(key), 'rb') as f:\n",
    "    result = pickle.load(f)"
   ]
  }
 ],
 "metadata": {
  "kernelspec": {
   "display_name": "Python 3",
   "language": "python",
   "name": "python3"
  },
  "language_info": {
   "codemirror_mode": {
    "name": "ipython",
    "version": 3
   },
   "file_extension": ".py",
   "mimetype": "text/x-python",
   "name": "python",
   "nbconvert_exporter": "python",
   "pygments_lexer": "ipython3",
   "version": "3.6.2"
  }
 },
 "nbformat": 4,
 "nbformat_minor": 4
}
